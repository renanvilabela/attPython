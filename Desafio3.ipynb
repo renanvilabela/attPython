{
  "nbformat": 4,
  "nbformat_minor": 0,
  "metadata": {
    "colab": {
      "provenance": [],
      "authorship_tag": "ABX9TyNxp+YMUd4jFxdXEVZK0Rtu",
      "include_colab_link": true
    },
    "kernelspec": {
      "name": "python3",
      "display_name": "Python 3"
    },
    "language_info": {
      "name": "python"
    }
  },
  "cells": [
    {
      "cell_type": "markdown",
      "metadata": {
        "id": "view-in-github",
        "colab_type": "text"
      },
      "source": [
        "<a href=\"https://colab.research.google.com/github/renanvilabela/attPython/blob/main/Desafio3.ipynb\" target=\"_parent\"><img src=\"https://colab.research.google.com/assets/colab-badge.svg\" alt=\"Open In Colab\"/></a>"
      ]
    },
    {
      "cell_type": "markdown",
      "source": [
        "Num determinado Estado, para transferências de veículos, o DETRAN cobra uma **taxa de 1%** para carros **fabricados antes de 1990** e uma **taxa de 1.5%** para os **fabricados de 1990 em diante**, a taxa está incidindo sobre o valor do carro.\n",
        "Faça uma algoritmo lê o ano e o preço do carro e a seguir calcula e imprime o imposto a ser pago."
      ],
      "metadata": {
        "id": "DpdYy-KPZpwS"
      }
    },
    {
      "cell_type": "code",
      "execution_count": 4,
      "metadata": {
        "colab": {
          "base_uri": "https://localhost:8080/"
        },
        "id": "PGILhtCUQRMG",
        "outputId": "56263a5d-c02b-4cb5-8b17-c98a1493eb62"
      },
      "outputs": [
        {
          "name": "stdout",
          "output_type": "stream",
          "text": [
            "Informe o ano de fabricação do carro: 1999\n",
            "Informe o preço do carro: R$ 25000\n"
          ]
        }
      ],
      "source": [
        "# 1- Entrada de dados\n",
        "ano_fabricacao = int(input(\"Informe o ano de fabricação do carro: \"))\n",
        "preco_carro = float(input(\"Informe o preço do carro: R$ \"))"
      ]
    },
    {
      "cell_type": "code",
      "source": [
        "#2- Determinação de taxa\n",
        "taxa = 0.015 if ano_fabricacao >= 1990 else 0.01\n",
        "\n",
        "#3- Cálculo de imposto\n",
        "imposto = preco_carro * taxa\n",
        "\n",
        "#4- Resultado\n",
        "print(f\"O imposto a ser pago para a transferência do veículo é: R$ {imposto:.2f}\")"
      ],
      "metadata": {
        "colab": {
          "base_uri": "https://localhost:8080/"
        },
        "id": "5vnpnbO9YU-l",
        "outputId": "f13b357f-513f-4540-dc0f-2c0a1694551e"
      },
      "execution_count": 5,
      "outputs": [
        {
          "output_type": "stream",
          "name": "stdout",
          "text": [
            "O imposto a ser pago para a transferência do veículo é: R$ 375.00\n"
          ]
        }
      ]
    }
  ]
}