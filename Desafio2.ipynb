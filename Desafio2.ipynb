{
  "nbformat": 4,
  "nbformat_minor": 0,
  "metadata": {
    "colab": {
      "provenance": [],
      "authorship_tag": "ABX9TyMdUxro0DQfZKvkZ73x5aqk",
      "include_colab_link": true
    },
    "kernelspec": {
      "name": "python3",
      "display_name": "Python 3"
    },
    "language_info": {
      "name": "python"
    }
  },
  "cells": [
    {
      "cell_type": "markdown",
      "metadata": {
        "id": "view-in-github",
        "colab_type": "text"
      },
      "source": [
        "<a href=\"https://colab.research.google.com/github/renanvilabela/attPython/blob/main/Desafio2.ipynb\" target=\"_parent\"><img src=\"https://colab.research.google.com/assets/colab-badge.svg\" alt=\"Open In Colab\"/></a>"
      ]
    },
    {
      "cell_type": "markdown",
      "source": [
        "João é um pescador do litoral do Recife. Toda vez que João traz um **Peso** de peixes maior que o estabelicido pelo *regulamento de pesca* de Pernambuco **(50 quilos)** deve pagar uma multa de **R$4,00** por quilo excedente.\n",
        "\n",
        "Facilite a vida de João! Faça um programa que leia a **variável peso** (peso de peixes) e calcule o excesso.\n",
        "\n",
        "Gravar na **variável excesso** a quantidade de quilos além do limite e na **variável  multa** o valor da multa que João deverá pagar. Imprima os dados do programa com as mensagens para alertar João."
      ],
      "metadata": {
        "id": "7vaQaF6-mcm1"
      }
    },
    {
      "cell_type": "code",
      "execution_count": 11,
      "metadata": {
        "colab": {
          "base_uri": "https://localhost:8080/"
        },
        "id": "3Xu28HAcQmOD",
        "outputId": "edc860fb-ce22-484c-e8fe-49e37c57c43d"
      },
      "outputs": [
        {
          "name": "stdout",
          "output_type": "stream",
          "text": [
            "Informe quantos quilos peixes foram pescados por João: 48\n"
          ]
        }
      ],
      "source": [
        "#Entrada de dados\n",
        "peso = float(input(\"Informe quantos quilos peixes foram pescados por João: \"))"
      ]
    },
    {
      "cell_type": "code",
      "source": [
        "#verificação de excesso\n",
        "limite = 50.0\n",
        "if peso > limite:\n",
        "\n",
        "  #Cálculo de excesso\n",
        "  excesso = peso - limite\n",
        "\n",
        "  #Cálculo de multa\n",
        "  valorMulta = 4.0\n",
        "  multa = excesso * valorMulta\n",
        "\n",
        "  #exibição de resultados\n",
        "  print(f\"João excedeu o limite de peso em {excesso:.2f} quilos.\")\n",
        "  print(f\"Valor da multa a ser pago por João: R$ {multa:.2f}\")\n",
        "else:\n",
        "  print(\"João está dentro do limite de peso permitido. Sem multa.\")"
      ],
      "metadata": {
        "colab": {
          "base_uri": "https://localhost:8080/"
        },
        "id": "o3v3MC5NiDtO",
        "outputId": "c5995c59-346a-480e-ae83-a0cfe192481f"
      },
      "execution_count": 12,
      "outputs": [
        {
          "output_type": "stream",
          "name": "stdout",
          "text": [
            "João está dentro do limite de peso permitido. Sem multa.\n"
          ]
        }
      ]
    }
  ]
}