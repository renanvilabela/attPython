{
  "nbformat": 4,
  "nbformat_minor": 0,
  "metadata": {
    "colab": {
      "provenance": [],
      "authorship_tag": "ABX9TyPEAqxkFC5geHn843EHxnl+",
      "include_colab_link": true
    },
    "kernelspec": {
      "name": "python3",
      "display_name": "Python 3"
    },
    "language_info": {
      "name": "python"
    }
  },
  "cells": [
    {
      "cell_type": "markdown",
      "metadata": {
        "id": "view-in-github",
        "colab_type": "text"
      },
      "source": [
        "<a href=\"https://colab.research.google.com/github/renanvilabela/attPython/blob/main/Desafio2.ipynb\" target=\"_parent\"><img src=\"https://colab.research.google.com/assets/colab-badge.svg\" alt=\"Open In Colab\"/></a>"
      ]
    },
    {
      "cell_type": "code",
      "execution_count": 9,
      "metadata": {
        "colab": {
          "base_uri": "https://localhost:8080/"
        },
        "id": "3Xu28HAcQmOD",
        "outputId": "f8e24931-3085-477c-ecae-3afaa4f9d69c"
      },
      "outputs": [
        {
          "name": "stdout",
          "output_type": "stream",
          "text": [
            "Informe quantos quilos peixes foram pescados por João: 100\n"
          ]
        }
      ],
      "source": [
        "#Entrada de dados\n",
        "peso = float(input(\"Informe quantos quilos peixes foram pescados por João: \"))"
      ]
    },
    {
      "cell_type": "code",
      "source": [
        "#verificação de excesso\n",
        "limite = 50.0\n",
        "if peso > limite:\n",
        "\n",
        "  #Cálculo de excesso\n",
        "  excesso = peso - limite\n",
        "\n",
        "  #Cálculo de multa\n",
        "  valorMulta = 4.0\n",
        "  multa = excesso * valorMulta\n",
        "\n",
        "  #exibição de resultados\n",
        "  print(f\"João excedeu o limite de peso em {excesso:.2f} quilos.\")\n",
        "  print(f\"Valor da multa a ser pago por João: R$ {multa:.2f}\")\n",
        "else:\n",
        "  print(\"João está dentro do limite de peso permitido. Sem multa.\")"
      ],
      "metadata": {
        "colab": {
          "base_uri": "https://localhost:8080/"
        },
        "id": "o3v3MC5NiDtO",
        "outputId": "c13226f2-e4bc-4dc3-f827-94874ce90b70"
      },
      "execution_count": 10,
      "outputs": [
        {
          "output_type": "stream",
          "name": "stdout",
          "text": [
            "João excedeu o limite de peso em 50.00 quilos.\n",
            "Valor da multa a ser pago por João: R$ 200.00\n"
          ]
        }
      ]
    }
  ]
}